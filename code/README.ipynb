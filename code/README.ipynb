{
 "cells": [
  {
   "cell_type": "code",
   "execution_count": null,
   "metadata": {},
   "outputs": [],
   "source": [
    "### OOM issue:\n",
    "- when n = 2048, batch = 64\n",
    "- when n = 1024, batch = 64\n",
    "- when n = 2048, batch = 32\n"
   ]
  }
 ],
 "metadata": {
  "kernelspec": {
   "display_name": "Python3(segmentzoo-gpu)",
   "language": "python",
   "name": "segmentzoo_gpu"
  },
  "language_info": {
   "codemirror_mode": {
    "name": "ipython",
    "version": 3
   },
   "file_extension": ".py",
   "mimetype": "text/x-python",
   "name": "python",
   "nbconvert_exporter": "python",
   "pygments_lexer": "ipython3",
   "version": "3.6.0"
  }
 },
 "nbformat": 4,
 "nbformat_minor": 2
}
