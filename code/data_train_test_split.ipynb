{
 "cells": [
  {
   "cell_type": "code",
   "execution_count": 46,
   "metadata": {},
   "outputs": [],
   "source": [
    "import os\n",
    "import glob\n",
    "import numpy as np\n",
    "import pandas as pd"
   ]
  },
  {
   "cell_type": "code",
   "execution_count": 21,
   "metadata": {},
   "outputs": [],
   "source": [
    "image_folder = \"../data/image\"\n",
    "mask_folder = \"../data/mask\""
   ]
  },
  {
   "cell_type": "markdown",
   "metadata": {},
   "source": [
    "## 1. upload image & mask files"
   ]
  },
  {
   "cell_type": "markdown",
   "metadata": {},
   "source": [
    "### 1.1 list of image files"
   ]
  },
  {
   "cell_type": "code",
   "execution_count": 122,
   "metadata": {},
   "outputs": [],
   "source": [
    "data_image_list = []\n",
    "for filename in sorted(os.listdir(image_folder)):\n",
    "    ## filename = \"20171027_ANIMAL2_0min.jpg\"\n",
    "    date, animal, minute = filename.split(\"_\") # [\"20171027\", \"ANIMAL2\", \"0min.jpg\"]   \n",
    "    animal = animal[6:] # convert \"ANIMAL2\" to \"2\"\n",
    "    minute = minute.split(\".\")[0][:-3] # convert \"0min.jpg\" to \"0\"\n",
    "    name = date + \"_ANIMAL\" + animal + \"_\" + minute + \"min\"\n",
    "    data_image_list.append([name, date, animal, minute])"
   ]
  },
  {
   "cell_type": "code",
   "execution_count": 123,
   "metadata": {},
   "outputs": [],
   "source": [
    "data_image = pd.DataFrame(data_image_list, columns = (\"file_name\",\"date\", \"animal\", \"minute\"))"
   ]
  },
  {
   "cell_type": "code",
   "execution_count": 124,
   "metadata": {},
   "outputs": [],
   "source": [
    "data_image.to_csv(\"../result/total_image_file_list.csv\")"
   ]
  },
  {
   "cell_type": "markdown",
   "metadata": {},
   "source": [
    "### 1.2 list of mask files"
   ]
  },
  {
   "cell_type": "code",
   "execution_count": 125,
   "metadata": {},
   "outputs": [],
   "source": [
    "data_mask_list = []\n",
    "\n",
    "for filename in sorted(os.listdir(mask_folder)):\n",
    "    # filename = \"20171027_ANIMAL2_0min_ROI.jpg\"\n",
    "    date, animal, minute, _ = filename.split(\"_\") # # [\"20171027\", \"ANIMAL2\", \"0min\", \"ROI.jpg\"]   \n",
    "    \n",
    "    animal = animal[6:] # convert \"ANIMAL2\" to \"2\"\n",
    "    minute = minute.split(\".\")[0][:-3] # convert \"0min\" to \"0\"\n",
    "    name = date + \"_ANIMAL\" + animal + \"_\" + minute + \"min\"\n",
    "    \n",
    "    data_mask_list.append([name, date, animal, minute])"
   ]
  },
  {
   "cell_type": "code",
   "execution_count": 126,
   "metadata": {},
   "outputs": [],
   "source": [
    "data_mask = pd.DataFrame(data_mask_list, columns = (\"file_name\",\"date\", \"animal\", \"minute\"))"
   ]
  },
  {
   "cell_type": "code",
   "execution_count": 127,
   "metadata": {},
   "outputs": [],
   "source": [
    "data_mask.to_csv(\"../result/total_mask_file_list.csv\")"
   ]
  },
  {
   "cell_type": "markdown",
   "metadata": {},
   "source": [
    "### 1.3 address inconsistent between image and mask"
   ]
  },
  {
   "cell_type": "code",
   "execution_count": 128,
   "metadata": {},
   "outputs": [
    {
     "name": "stdout",
     "output_type": "stream",
     "text": [
      "(2420, 4)\n",
      "(2420, 4)\n"
     ]
    }
   ],
   "source": [
    "print(data_image.shape)\n",
    "print(data_mask.shape)"
   ]
  },
  {
   "cell_type": "code",
   "execution_count": 129,
   "metadata": {},
   "outputs": [
    {
     "data": {
      "text/html": [
       "<div>\n",
       "<style scoped>\n",
       "    .dataframe tbody tr th:only-of-type {\n",
       "        vertical-align: middle;\n",
       "    }\n",
       "\n",
       "    .dataframe tbody tr th {\n",
       "        vertical-align: top;\n",
       "    }\n",
       "\n",
       "    .dataframe thead th {\n",
       "        text-align: right;\n",
       "    }\n",
       "</style>\n",
       "<table border=\"1\" class=\"dataframe\">\n",
       "  <thead>\n",
       "    <tr style=\"text-align: right;\">\n",
       "      <th></th>\n",
       "      <th>file_name</th>\n",
       "      <th>date</th>\n",
       "      <th>animal</th>\n",
       "      <th>minute</th>\n",
       "    </tr>\n",
       "  </thead>\n",
       "  <tbody>\n",
       "    <tr>\n",
       "      <th>0</th>\n",
       "      <td>20171027_ANIMAL2_0min</td>\n",
       "      <td>20171027</td>\n",
       "      <td>2</td>\n",
       "      <td>0</td>\n",
       "    </tr>\n",
       "    <tr>\n",
       "      <th>1</th>\n",
       "      <td>20171027_ANIMAL2_10min</td>\n",
       "      <td>20171027</td>\n",
       "      <td>2</td>\n",
       "      <td>10</td>\n",
       "    </tr>\n",
       "    <tr>\n",
       "      <th>2</th>\n",
       "      <td>20171027_ANIMAL2_11min</td>\n",
       "      <td>20171027</td>\n",
       "      <td>2</td>\n",
       "      <td>11</td>\n",
       "    </tr>\n",
       "    <tr>\n",
       "      <th>3</th>\n",
       "      <td>20171027_ANIMAL2_12min</td>\n",
       "      <td>20171027</td>\n",
       "      <td>2</td>\n",
       "      <td>12</td>\n",
       "    </tr>\n",
       "    <tr>\n",
       "      <th>4</th>\n",
       "      <td>20171027_ANIMAL2_13min</td>\n",
       "      <td>20171027</td>\n",
       "      <td>2</td>\n",
       "      <td>13</td>\n",
       "    </tr>\n",
       "  </tbody>\n",
       "</table>\n",
       "</div>"
      ],
      "text/plain": [
       "                file_name      date animal minute\n",
       "0   20171027_ANIMAL2_0min  20171027      2      0\n",
       "1  20171027_ANIMAL2_10min  20171027      2     10\n",
       "2  20171027_ANIMAL2_11min  20171027      2     11\n",
       "3  20171027_ANIMAL2_12min  20171027      2     12\n",
       "4  20171027_ANIMAL2_13min  20171027      2     13"
      ]
     },
     "execution_count": 129,
     "metadata": {},
     "output_type": "execute_result"
    }
   ],
   "source": [
    "data_image.head()"
   ]
  },
  {
   "cell_type": "code",
   "execution_count": 130,
   "metadata": {},
   "outputs": [
    {
     "data": {
      "text/html": [
       "<div>\n",
       "<style scoped>\n",
       "    .dataframe tbody tr th:only-of-type {\n",
       "        vertical-align: middle;\n",
       "    }\n",
       "\n",
       "    .dataframe tbody tr th {\n",
       "        vertical-align: top;\n",
       "    }\n",
       "\n",
       "    .dataframe thead th {\n",
       "        text-align: right;\n",
       "    }\n",
       "</style>\n",
       "<table border=\"1\" class=\"dataframe\">\n",
       "  <thead>\n",
       "    <tr style=\"text-align: right;\">\n",
       "      <th></th>\n",
       "      <th>file_name</th>\n",
       "      <th>date</th>\n",
       "      <th>animal</th>\n",
       "      <th>minute</th>\n",
       "    </tr>\n",
       "  </thead>\n",
       "  <tbody>\n",
       "    <tr>\n",
       "      <th>0</th>\n",
       "      <td>20171027_ANIMAL2_0min</td>\n",
       "      <td>20171027</td>\n",
       "      <td>2</td>\n",
       "      <td>0</td>\n",
       "    </tr>\n",
       "    <tr>\n",
       "      <th>1</th>\n",
       "      <td>20171027_ANIMAL2_10min</td>\n",
       "      <td>20171027</td>\n",
       "      <td>2</td>\n",
       "      <td>10</td>\n",
       "    </tr>\n",
       "    <tr>\n",
       "      <th>2</th>\n",
       "      <td>20171027_ANIMAL2_11min</td>\n",
       "      <td>20171027</td>\n",
       "      <td>2</td>\n",
       "      <td>11</td>\n",
       "    </tr>\n",
       "    <tr>\n",
       "      <th>3</th>\n",
       "      <td>20171027_ANIMAL2_12min</td>\n",
       "      <td>20171027</td>\n",
       "      <td>2</td>\n",
       "      <td>12</td>\n",
       "    </tr>\n",
       "    <tr>\n",
       "      <th>4</th>\n",
       "      <td>20171027_ANIMAL2_13min</td>\n",
       "      <td>20171027</td>\n",
       "      <td>2</td>\n",
       "      <td>13</td>\n",
       "    </tr>\n",
       "  </tbody>\n",
       "</table>\n",
       "</div>"
      ],
      "text/plain": [
       "                file_name      date animal minute\n",
       "0   20171027_ANIMAL2_0min  20171027      2      0\n",
       "1  20171027_ANIMAL2_10min  20171027      2     10\n",
       "2  20171027_ANIMAL2_11min  20171027      2     11\n",
       "3  20171027_ANIMAL2_12min  20171027      2     12\n",
       "4  20171027_ANIMAL2_13min  20171027      2     13"
      ]
     },
     "execution_count": 130,
     "metadata": {},
     "output_type": "execute_result"
    }
   ],
   "source": [
    "data_mask.head()"
   ]
  },
  {
   "cell_type": "code",
   "execution_count": 131,
   "metadata": {},
   "outputs": [
    {
     "data": {
      "text/plain": [
       "Series([], Name: file_name, dtype: object)"
      ]
     },
     "execution_count": 131,
     "metadata": {},
     "output_type": "execute_result"
    }
   ],
   "source": [
    "### files in image but not in mask\n",
    "data_image[\"file_name\"][data_image[\"file_name\"].isin(data_mask[\"file_name\"]) == False]"
   ]
  },
  {
   "cell_type": "code",
   "execution_count": 132,
   "metadata": {},
   "outputs": [
    {
     "data": {
      "text/plain": [
       "Series([], Name: file_name, dtype: object)"
      ]
     },
     "execution_count": 132,
     "metadata": {},
     "output_type": "execute_result"
    }
   ],
   "source": [
    "### files in mask but not in image\n",
    "data_mask[\"file_name\"][data_mask[\"file_name\"].isin(data_image[\"file_name\"]) == False]"
   ]
  },
  {
   "cell_type": "markdown",
   "metadata": {},
   "source": [
    "### 1.4 Number of animals (166)"
   ]
  },
  {
   "cell_type": "code",
   "execution_count": 136,
   "metadata": {
    "scrolled": true
   },
   "outputs": [],
   "source": [
    "df = data_image.groupby([\"date\", \"animal\"]).count()"
   ]
  },
  {
   "cell_type": "markdown",
   "metadata": {},
   "source": [
    "# 2. train test split"
   ]
  },
  {
   "cell_type": "markdown",
   "metadata": {},
   "source": [
    "total image/mask pair: 2420\n",
    "\n",
    "from 166 animals"
   ]
  },
  {
   "cell_type": "markdown",
   "metadata": {},
   "source": [
    "### 2.1 generate list of validation data"
   ]
  },
  {
   "cell_type": "code",
   "execution_count": null,
   "metadata": {},
   "outputs": [],
   "source": [
    "seed = 12345"
   ]
  },
  {
   "cell_type": "code",
   "execution_count": 171,
   "metadata": {},
   "outputs": [],
   "source": [
    "### sample by animals as validation set\n",
    "df_sample = df.sample(frac = 0.1, random_state = seed)"
   ]
  },
  {
   "cell_type": "code",
   "execution_count": 177,
   "metadata": {},
   "outputs": [
    {
     "name": "stdout",
     "output_type": "stream",
     "text": [
      "file_name    213\n",
      "minute       213\n",
      "dtype: int64\n"
     ]
    }
   ],
   "source": [
    "## number of validation files\n",
    "print(df_sample.sum())"
   ]
  },
  {
   "cell_type": "code",
   "execution_count": 174,
   "metadata": {},
   "outputs": [],
   "source": [
    "df_sample.to_csv(\"../result/validation_data_list.csv\")"
   ]
  },
  {
   "cell_type": "code",
   "execution_count": 60,
   "metadata": {},
   "outputs": [
    {
     "data": {
      "text/plain": [
       "(17, 4)"
      ]
     },
     "execution_count": 60,
     "metadata": {},
     "output_type": "execute_result"
    }
   ],
   "source": [
    "df_sample.shape"
   ]
  },
  {
   "cell_type": "markdown",
   "metadata": {},
   "source": [
    "### 2.2 move the files into folders\n",
    "image/image_train, image/image_validate, mask/mask_train, mask/mask_validate"
   ]
  },
  {
   "cell_type": "code",
   "execution_count": 2,
   "metadata": {},
   "outputs": [],
   "source": [
    "df_sample = pd.read_csv((\"../result/validation_data_list.csv\"))"
   ]
  },
  {
   "cell_type": "code",
   "execution_count": 10,
   "metadata": {},
   "outputs": [],
   "source": [
    "df_sample = df_sample.sort_values(by = \"date\")"
   ]
  },
  {
   "cell_type": "code",
   "execution_count": 24,
   "metadata": {},
   "outputs": [],
   "source": [
    "sample_name = set(df_sample[\"date\"].astype(str) + \"_ANIMAL\" + df_sample[\"animal\"].astype(str))"
   ]
  },
  {
   "cell_type": "code",
   "execution_count": 25,
   "metadata": {},
   "outputs": [
    {
     "data": {
      "text/plain": [
       "{'20171103_ANIMAL6',\n",
       " '20180509_ANIMAL2',\n",
       " '20180514_ANIMAL5',\n",
       " '20180515_ANIMAL2',\n",
       " '20180801_ANIMAL2',\n",
       " '20180802_ANIMAL3',\n",
       " '20180807_ANIMAL5',\n",
       " '20180821_ANIMAL3',\n",
       " '20180910_ANIMAL5',\n",
       " '20180915_ANIMAL1',\n",
       " '20181114_ANIMAL10',\n",
       " '20181114_ANIMAL12',\n",
       " '20181114_ANIMAL6',\n",
       " '20181114_ANIMAL8',\n",
       " '20181127_ANIMAL2',\n",
       " '20181208_ANIMAL2',\n",
       " '20181213_ANIMAL7'}"
      ]
     },
     "execution_count": 25,
     "metadata": {},
     "output_type": "execute_result"
    }
   ],
   "source": [
    "sample_name"
   ]
  },
  {
   "cell_type": "code",
   "execution_count": 41,
   "metadata": {},
   "outputs": [],
   "source": [
    "x_train_folder = \"../data/image/image_train\"\n",
    "x_test_folder = \"../data/image/image_validate\"\n",
    "y_train_folder = \"../data/mask/mask_train\"\n",
    "y_test_folder = \"../data/mask/mask_validate\""
   ]
  },
  {
   "cell_type": "markdown",
   "metadata": {},
   "source": [
    "### image files"
   ]
  },
  {
   "cell_type": "code",
   "execution_count": 55,
   "metadata": {},
   "outputs": [],
   "source": [
    "for file in glob.glob(image_folder + \"/\" + \"*.jpg\"): ## return full path\n",
    "    filename = os.path.basename(file)\n",
    "    ## check if the file belongs to validation data\n",
    "    if any(name in filename for name in sample_name):     \n",
    "        destination_dir = x_test_folder + \"/\" + filename\n",
    "    else:\n",
    "        destination_dir = x_train_folder + \"/\" + filename   \n",
    "    os.rename(file,destination_dir)"
   ]
  },
  {
   "cell_type": "markdown",
   "metadata": {},
   "source": [
    "### mask files"
   ]
  },
  {
   "cell_type": "code",
   "execution_count": 56,
   "metadata": {},
   "outputs": [],
   "source": [
    "for file in glob.glob(mask_folder + \"/\" + \"*.jpg\"): ## return full path\n",
    "    filename = os.path.basename(file)\n",
    "    ## check if the file belongs to validation data\n",
    "    if any(name in filename for name in sample_name):     \n",
    "        destination_dir = y_test_folder + \"/\" + filename\n",
    "    else:\n",
    "        destination_dir = y_train_folder + \"/\" + filename   \n",
    "    os.rename(file,destination_dir)"
   ]
  },
  {
   "cell_type": "markdown",
   "metadata": {},
   "source": [
    "### 2.3 sanity check"
   ]
  },
  {
   "cell_type": "markdown",
   "metadata": {},
   "source": [
    "#### file numbers"
   ]
  },
  {
   "cell_type": "code",
   "execution_count": 59,
   "metadata": {},
   "outputs": [
    {
     "name": "stdout",
     "output_type": "stream",
     "text": [
      "Number of x_train data: 2207\n",
      "Number of x_test data: 213\n",
      "Number of y_train data: 2207\n",
      "Number of y_test data: 213\n"
     ]
    }
   ],
   "source": [
    "print(\"Number of x_train data:\",len([file for file in os.listdir(x_train_folder)]))\n",
    "print(\"Number of x_test data:\",len([file for file in os.listdir(x_test_folder)]))\n",
    "print(\"Number of y_train data:\",len([file for file in os.listdir(y_train_folder)]))\n",
    "print(\"Number of y_test data:\",len([file for file in os.listdir(y_test_folder)]))"
   ]
  },
  {
   "cell_type": "code",
   "execution_count": null,
   "metadata": {},
   "outputs": [],
   "source": []
  }
 ],
 "metadata": {
  "kernelspec": {
   "display_name": "Python(segmentzoo)",
   "language": "python",
   "name": "segmentzoo"
  },
  "language_info": {
   "codemirror_mode": {
    "name": "ipython",
    "version": 3
   },
   "file_extension": ".py",
   "mimetype": "text/x-python",
   "name": "python",
   "nbconvert_exporter": "python",
   "pygments_lexer": "ipython3",
   "version": "3.6.0"
  }
 },
 "nbformat": 4,
 "nbformat_minor": 2
}
