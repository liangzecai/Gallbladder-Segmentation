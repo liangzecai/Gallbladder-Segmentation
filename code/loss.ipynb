{
 "cells": [
  {
   "cell_type": "markdown",
   "metadata": {},
   "source": [
    "### customized loss function for keras"
   ]
  },
  {
   "cell_type": "code",
   "execution_count": 75,
   "metadata": {},
   "outputs": [],
   "source": [
    "from keras.preprocessing import image\n",
    "import keras.backend as K\n",
    "from keras.losses import binary_crossentropy"
   ]
  },
  {
   "cell_type": "code",
   "execution_count": 103,
   "metadata": {},
   "outputs": [],
   "source": [
    "def jaccard(y_true, y_pred):\n",
    "    smooth = 1e-15\n",
    "    intersection = K.sum(y_true * y_pred, axis=[-1,1,2])\n",
    "    union = K.sum(y_true + y_pred, axis=[-1,1,2])\n",
    "    jac = (intersection + smooth) / (union - intersection + smooth)\n",
    "    return K.mean(jac)\n",
    "\n",
    "def dice(y_true, y_pred):\n",
    "    intersection = K.sum(K.abs(y_true * y_pred), axis=-1)\n",
    "    union = K.sum(K.abs(y_true) + K.abs(y_pred), axis=-1)\n",
    "    return (2 * intersection + 1e-15) / (union + 1e-15)\n",
    "\n",
    "def NLL(y_true, y_pred):\n",
    "    H = K.mean(K.binary_crossentropy(y_true, y_pred), axis = [-1,1,2])\n",
    "    return K.mean(H)\n",
    "\n",
    "def customLoss(y_true, y_pred):\n",
    "    H = NLL(y_true, y_pred)\n",
    "    J = jaccard(y_true, y_pred)\n",
    "    return (H-K.log(J))"
   ]
  },
  {
   "cell_type": "code",
   "execution_count": 6,
   "metadata": {},
   "outputs": [],
   "source": [
    "#### load ytrue\n",
    "mask = image.load_img(\"../data/sample_mask/mask.jpg\", target_size=(224, 224)) # shape(244,244,3)\n",
    "y_true = image.img_to_array(mask).mean(axis=2)/255 # shape(244,244)\n",
    "y_true = y_true.reshape((1,224,224,1))"
   ]
  },
  {
   "cell_type": "code",
   "execution_count": 99,
   "metadata": {},
   "outputs": [],
   "source": [
    "H = K.eval(NLL(K.variable(y_true), K.variable(y_true)))\n",
    "J = K.eval(jaccard(K.variable(y_true), K.variable(y_true)))\n",
    "K.eval(H - K.log(J))"
   ]
  },
  {
   "cell_type": "code",
   "execution_count": 104,
   "metadata": {},
   "outputs": [
    {
     "data": {
      "text/plain": [
       "0.30866325"
      ]
     },
     "execution_count": 104,
     "metadata": {},
     "output_type": "execute_result"
    }
   ],
   "source": [
    "K.eval(customLoss(K.variable(y_true), K.variable(y_true)))"
   ]
  },
  {
   "cell_type": "code",
   "execution_count": null,
   "metadata": {},
   "outputs": [],
   "source": []
  }
 ],
 "metadata": {
  "kernelspec": {
   "display_name": "Python3(segmentzoo-gpu)",
   "language": "python",
   "name": "segmentzoo_gpu"
  },
  "language_info": {
   "codemirror_mode": {
    "name": "ipython",
    "version": 3
   },
   "file_extension": ".py",
   "mimetype": "text/x-python",
   "name": "python",
   "nbconvert_exporter": "python",
   "pygments_lexer": "ipython3",
   "version": "3.6.0"
  }
 },
 "nbformat": 4,
 "nbformat_minor": 2
}
