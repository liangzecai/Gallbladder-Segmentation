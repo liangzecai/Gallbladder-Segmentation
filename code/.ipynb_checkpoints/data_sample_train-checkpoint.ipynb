{
 "cells": [
  {
   "cell_type": "code",
   "execution_count": 1,
   "metadata": {},
   "outputs": [],
   "source": [
    "import os\n",
    "import random\n",
    "import numpy as np\n",
    "import pandas as pd\n",
    "import cv2"
   ]
  },
  {
   "cell_type": "code",
   "execution_count": 2,
   "metadata": {},
   "outputs": [],
   "source": [
    "### data path\n",
    "x_train_path = \"../data/image/image_train/\"\n",
    "x_test_path = \"../data/image/image_validate/\"\n",
    "\n",
    "y_train_path = \"../data/mask/mask_train/\"\n",
    "y_test_path = \"../data/mask/mask_validate/\""
   ]
  },
  {
   "cell_type": "markdown",
   "metadata": {},
   "source": [
    "### (mini example) random sample from training data"
   ]
  },
  {
   "cell_type": "code",
   "execution_count": 3,
   "metadata": {},
   "outputs": [],
   "source": [
    "SEED = 1\n",
    "n_train = 5"
   ]
  },
  {
   "cell_type": "code",
   "execution_count": 6,
   "metadata": {},
   "outputs": [
    {
     "data": {
      "text/plain": [
       "['20180427_ANIMAL3_50min.jpg',\n",
       " '20171027_ANIMAL6_15min.jpg',\n",
       " '20180724_ANIMAL5_55min.jpg',\n",
       " '20180120_ANIMAL2_10min.jpg',\n",
       " '20181124_ANIMAL14_0min.jpg']"
      ]
     },
     "execution_count": 6,
     "metadata": {},
     "output_type": "execute_result"
    }
   ],
   "source": [
    "### glob.glob sorted still has weired order, but consistent between x and y\n",
    "random.seed(SEED)\n",
    "x_train_sample_list = random.sample(sorted(os.listdir(x_train_path)), n_train)\n",
    "x_train_sample_list"
   ]
  },
  {
   "cell_type": "code",
   "execution_count": 8,
   "metadata": {},
   "outputs": [
    {
     "data": {
      "text/plain": [
       "['20180427_ANIMAL3_50min_ROI.jpg',\n",
       " '20171027_ANIMAL6_15min_ROI.jpg',\n",
       " '20180724_ANIMAL5_55min_ROI.jpg',\n",
       " '20180120_ANIMAL2_10min_ROI.jpg',\n",
       " '20181124_ANIMAL14_0min_ROI.jpg']"
      ]
     },
     "execution_count": 8,
     "metadata": {},
     "output_type": "execute_result"
    }
   ],
   "source": [
    "random.seed(SEED)\n",
    "y_train_sample_list = random.sample(sorted(os.listdir(y_train_path)), n_train)\n",
    "y_train_sample_list"
   ]
  },
  {
   "cell_type": "code",
   "execution_count": 9,
   "metadata": {},
   "outputs": [],
   "source": [
    "def sample_image_from_folder(folder, sample_list, seed = SEED):\n",
    "    images = []\n",
    "    for filename in sorted(os.listdir(folder)):\n",
    "        if filename in sample_list:\n",
    "            img = cv2.imread(os.path.join(folder,filename))\n",
    "            img = cv2.resize(img[:,:,::-1], (224,224)) ## convert to rgb\n",
    "            if img is not None:\n",
    "                images.append(img)\n",
    "    return np.array(images)"
   ]
  },
  {
   "cell_type": "code",
   "execution_count": 13,
   "metadata": {},
   "outputs": [],
   "source": [
    "x_train = sample_image_from_folder(x_train_path, x_train_sample_list)"
   ]
  },
  {
   "cell_type": "code",
   "execution_count": 14,
   "metadata": {},
   "outputs": [
    {
     "data": {
      "text/plain": [
       "(5, 224, 224, 3)"
      ]
     },
     "execution_count": 14,
     "metadata": {},
     "output_type": "execute_result"
    }
   ],
   "source": [
    "x_train.shape"
   ]
  },
  {
   "cell_type": "code",
   "execution_count": 15,
   "metadata": {},
   "outputs": [
    {
     "data": {
      "text/plain": [
       "(5, 224, 224, 3)"
      ]
     },
     "execution_count": 15,
     "metadata": {},
     "output_type": "execute_result"
    }
   ],
   "source": [
    "y_train = sample_image_from_folder(y_train_path, y_train_sample_list)\n",
    "y_train.shape"
   ]
  },
  {
   "cell_type": "code",
   "execution_count": null,
   "metadata": {},
   "outputs": [],
   "source": []
  }
 ],
 "metadata": {
  "kernelspec": {
   "display_name": "Python(segmentzoo)",
   "language": "python",
   "name": "segmentzoo"
  },
  "language_info": {
   "codemirror_mode": {
    "name": "ipython",
    "version": 3
   },
   "file_extension": ".py",
   "mimetype": "text/x-python",
   "name": "python",
   "nbconvert_exporter": "python",
   "pygments_lexer": "ipython3",
   "version": "3.6.0"
  }
 },
 "nbformat": 4,
 "nbformat_minor": 2
}
